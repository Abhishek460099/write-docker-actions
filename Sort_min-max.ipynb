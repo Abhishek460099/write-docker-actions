{
 "cells": [
  {
   "cell_type": "code",
   "execution_count": 38,
   "metadata": {
    "dotnet_interactive": {
     "language": "csharp"
    }
   },
   "outputs": [],
   "source": [
    "import numpy as numpy\r\n",
    "from datetime import datetime\r\n",
    "#  we are using a list of numbers\r\n",
    "# list is series which has mutable elemenst and is mutable itself\r\n",
    "arr=[2,5,9,1,0,4,5,12,23,2]\r\n",
    "len=arr.__len__() #  __len__() returns the length of the list object"
   ]
  },
  {
   "cell_type": "code",
   "execution_count": null,
   "metadata": {},
   "outputs": [],
   "source": [
    "help(list)"
   ]
  },
  {
   "cell_type": "code",
   "execution_count": 32,
   "metadata": {},
   "outputs": [],
   "source": [
    "# lets bubble sort\r\n",
    "# comparing the current element with the forward element\r\n",
    "# Bubbles or larger element goes at the end through\r\n",
    "# bubbling or bigger bubbles go up first"
   ]
  },
  {
   "cell_type": "code",
   "execution_count": null,
   "metadata": {},
   "outputs": [],
   "source": [
    "\r\n",
    "for i in range(0, len-1):\r\n",
    "    for j in range(0,(len -1-i)):\r\n",
    "        if(arr[j]>arr[j+1]):\r\n",
    "            x=arr[j+1]\r\n",
    "            arr[j+1]=arr[j]\r\n",
    "            arr[j]=x\r\n",
    "print(arr)"
   ]
  },
  {
   "cell_type": "code",
   "execution_count": null,
   "metadata": {},
   "outputs": [],
   "source": [
    "# insertion sort\r\n",
    "# In this algo we divide the array of numbers in two part\r\n",
    "# the sorted and unsorted part\r\n",
    "# we use the elements of unsorted part to find their place in sorted part\r\n",
    "# this step is repeated untill the  array o numbers  gets sorted\r\n",
    "for x in range(1,len):\r\n",
    "    temp= arr[x]\r\n",
    "    y=x-1\r\n",
    "    while(y>=0 and temp<arr[y]):\r\n",
    "        arr[y+1]=arr[y]\r\n",
    "        y=y-1\r\n",
    "    arr[y+1]=temp\r\n",
    "print(arr)"
   ]
  },
  {
   "cell_type": "code",
   "execution_count": 39,
   "metadata": {},
   "outputs": [
    {
     "name": "stdout",
     "output_type": "stream",
     "text": [
      "  23-0\n"
     ]
    }
   ],
   "source": [
    "## find the largest and smallest element in array/arr\r\n",
    "itr=0\r\n",
    "if(len%2==0):\r\n",
    "    if(arr[0]>arr[1]):\r\n",
    "        max=arr[0]\r\n",
    "        min=arr[1]\r\n",
    "    else:\r\n",
    "        min=arr[0]\r\n",
    "        max=arr[1]\r\n",
    "    itr=2\r\n",
    "else:\r\n",
    "    min=arr[0]\r\n",
    "    max=arr[0]\r\n",
    "    itr=1\r\n",
    "while(itr<len-1):\r\n",
    "    if(arr[itr]>arr[itr+1]):\r\n",
    "        if(arr[itr]>max):\r\n",
    "            max=arr[itr]\r\n",
    "        if(arr[itr+1]<min):\r\n",
    "            min=arr[itr+1]\r\n",
    "    else:\r\n",
    "        if(arr[itr+1]>max):\r\n",
    "            max=arr[itr+1]\r\n",
    "        if(arr[itr]<min):\r\n",
    "            min=arr[itr]\r\n",
    "    itr=itr+2\r\n",
    "print(f\"  {max}-{min}\")\r\n",
    "        "
   ]
  }
 ],
 "metadata": {
  "interpreter": {
   "hash": "b3ba2566441a7c06988d0923437866b63cedc61552a5af99d1f4fb67d367b25f"
  },
  "kernelspec": {
   "display_name": "Python 3.8.8 64-bit",
   "name": "python3"
  },
  "language_info": {
   "codemirror_mode": {
    "name": "ipython",
    "version": 3
   },
   "file_extension": ".py",
   "mimetype": "text/x-python",
   "name": "python",
   "nbconvert_exporter": "python",
   "pygments_lexer": "ipython3",
   "version": "3.8.8"
  },
  "orig_nbformat": 4
 },
 "nbformat": 4,
 "nbformat_minor": 2
}